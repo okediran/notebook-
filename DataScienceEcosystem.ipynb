{
 "cells": [
  {
   "cell_type": "markdown",
   "id": "524bf780",
   "metadata": {},
   "source": [
    "# Data Science Tools and Ecosystem"
   ]
  },
  {
   "cell_type": "markdown",
   "id": "57df0c13",
   "metadata": {},
   "source": [
    "In this notebook, Data Science Tools and Ecosystem are summarized."
   ]
  },
  {
   "cell_type": "markdown",
   "id": "707ffb8b",
   "metadata": {},
   "source": [
    "Some of the popular languages that Data Scientists use are:\n",
    "1. Python\n",
    "2. SQL\n",
    "3. R language\n",
    "4. JavaScript\n",
    "5. Java\n"
   ]
  },
  {
   "cell_type": "markdown",
   "id": "2e96903f",
   "metadata": {},
   "source": [
    "Some of the commonly used libraries used by Data Scientists include:\n",
    "1. nuNumPy \n",
    "2. Pandas \n",
    "3. matplotlib\n",
    "4. scikit-learn\n",
    "5. TensorFlow \n",
    "6. PyTorch"
   ]
  },
  {
   "cell_type": "markdown",
   "id": "4bdd5ff0",
   "metadata": {},
   "source": [
    "| Data Science Tools | \n",
    "|-----------------|\n",
    "| Apache Spark | \n",
    "| Flink | \n",
    "| R studio | \n",
    "| Jupytal Notebook | \n",
    "| Apache Zeppeling | \n",
    "| Spyder | \n"
   ]
  },
  {
   "cell_type": "markdown",
   "id": "0e73f245",
   "metadata": {},
   "source": [
    "### Below are a few examples of evaluating arithmetic expressions in Python"
   ]
  },
  {
   "cell_type": "code",
   "execution_count": 6,
   "id": "2d5d41a2",
   "metadata": {},
   "outputs": [
    {
     "data": {
      "text/plain": [
       "17"
      ]
     },
     "execution_count": 6,
     "metadata": {},
     "output_type": "execute_result"
    }
   ],
   "source": [
    "# This a simple arithmetic expression to mutiply then add integers\n",
    "(3*4)+5"
   ]
  },
  {
   "cell_type": "code",
   "execution_count": 7,
   "id": "6ff095d9",
   "metadata": {},
   "outputs": [
    {
     "name": "stdout",
     "output_type": "stream",
     "text": [
      "17\n"
     ]
    }
   ],
   "source": [
    "# This a simple arithmetic expression to mutiply then add integers\n",
    "print((3*4)+5)"
   ]
  },
  {
   "cell_type": "code",
   "execution_count": 10,
   "id": "4bd630e4",
   "metadata": {},
   "outputs": [
    {
     "name": "stdout",
     "output_type": "stream",
     "text": [
      "3.33 Hours\n"
     ]
    }
   ],
   "source": [
    "# This will convert 200 minutes to hours by diving by 60\n",
    "minutes = 200\n",
    "covert_to_hour = minutes / 60\n",
    "print(round(covert_to_hour,2), 'Hours')"
   ]
  },
  {
   "cell_type": "markdown",
   "id": "6b16f316",
   "metadata": {},
   "source": [
    "Objectives:\n",
    "- List popular languages for Data Science\n",
    "- commonly used libraries used by Data Scientists\n",
    "- Data Science Tools\n",
    "- Marchine Learning\n",
    "- Big data\n"
   ]
  },
  {
   "cell_type": "markdown",
   "id": "468e737e",
   "metadata": {},
   "source": [
    "## Author\n",
    "Daniel Okediran"
   ]
  },
  {
   "cell_type": "code",
   "execution_count": null,
   "id": "cd32b6be",
   "metadata": {},
   "outputs": [],
   "source": []
  }
 ],
 "metadata": {
  "kernelspec": {
   "display_name": "Python 3 (ipykernel)",
   "language": "python",
   "name": "python3"
  },
  "language_info": {
   "codemirror_mode": {
    "name": "ipython",
    "version": 3
   },
   "file_extension": ".py",
   "mimetype": "text/x-python",
   "name": "python",
   "nbconvert_exporter": "python",
   "pygments_lexer": "ipython3",
   "version": "3.11.5"
  }
 },
 "nbformat": 4,
 "nbformat_minor": 5
}
